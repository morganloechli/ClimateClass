{
 "cells": [
  {
   "cell_type": "markdown",
   "id": "bc7bb9ae-402b-4564-b9d3-58bf3591f289",
   "metadata": {},
   "source": [
    "# Modeling Earth's Temperature Without an Atmosphere\n",
    "Use this notebook to model the surface temperature of Earth assuming the Earth has no atmosphere."
   ]
  },
  {
   "cell_type": "markdown",
   "id": "1016f070-8d21-4014-9c20-c53eccc94d42",
   "metadata": {},
   "source": [
    "## Section 1: Setup\n",
    "The following block of code imports packages that will be needed for creating and visualing your model. It also defines any constants that will be used throughout."
   ]
  },
  {
   "cell_type": "code",
   "execution_count": 8,
   "id": "08a4aa97-197d-4e17-b4fb-b9a858c444cf",
   "metadata": {},
   "outputs": [],
   "source": [
    "# Packages\n",
    "import numpy as np\n",
    "import matplotlib.pyplot as plt\n",
    "from ipywidgets import interact\n",
    "\n",
    "# Constant\n",
    "# Complete the next line by inputing the value for the Stefan-Boltzmann constant in W/m^2/K^4. \n",
    "# If you have question or are unsure of notation, just ask.\n",
    "sigma = "
   ]
  },
  {
   "cell_type": "markdown",
   "id": "b426db30-8839-407f-ab09-0f81c8fe937b",
   "metadata": {},
   "source": [
    "## Section 2: Creating the Model\n",
    "The following block of code will create a function that will be used to determine the Earth's surface temperature for a given Solar radiation and albedo value."
   ]
  },
  {
   "cell_type": "code",
   "execution_count": 9,
   "id": "2a8ca975-acab-47aa-8bcf-3ddd1ddca380",
   "metadata": {},
   "outputs": [],
   "source": [
    "# function\n",
    "# There are two errors in this function. Correct them before moving on.\n",
    "def bare_rock_temp(S, albedo):\n",
    "    return ((S * (albedo)) / (sigma)) ** 0.25"
   ]
  },
  {
   "cell_type": "code",
   "execution_count": 10,
   "id": "8fcaf4fd-60d1-48bc-9fed-5349ec7867d1",
   "metadata": {},
   "outputs": [
    {
     "data": {
      "text/plain": [
       "254.909060186948"
      ]
     },
     "execution_count": 10,
     "metadata": {},
     "output_type": "execute_result"
    }
   ],
   "source": [
    "# Confirm the function works by calling it for S = 1368 W/m^2 and albedo - 0.3. You should get a temperature of 254.9 K.\n",
    "# If you get a different answer, go back and try correcting the function again. If you need help, just ask.\n",
    "bare_rock_temp(1368,0.3)"
   ]
  },
  {
   "cell_type": "markdown",
   "id": "0f304bfd-903c-4162-8b6b-d6a5ea15964a",
   "metadata": {},
   "source": [
    "## Section 3: Exploring Temperature vs. Albedo\n",
    "The following block of code will generate an interactive plot of temperature vs. albedo."
   ]
  },
  {
   "cell_type": "code",
   "execution_count": 17,
   "id": "a64435c0-d3b4-4107-a778-2d4337af590c",
   "metadata": {},
   "outputs": [
    {
     "data": {
      "application/vnd.jupyter.widget-view+json": {
       "model_id": "419c9205d3dc4866a17f9c4bca75deff",
       "version_major": 2,
       "version_minor": 0
      },
      "text/plain": [
       "interactive(children=(IntSlider(value=1368, description='S', max=1500, min=1000, step=10), Output()), _dom_cla…"
      ]
     },
     "metadata": {},
     "output_type": "display_data"
    }
   ],
   "source": [
    "# The line below is what makes the plot interactive. It will create a slider that will allow you to vary the solar input, S.\n",
    "# The first number is the lower limit, the second number is the upper limit, and the third number is the spacing of values.\n",
    "# Change the numbers to cover the range of S values you are interested in investigating. Remember, the standard value is S = 1368 W/m^2.\n",
    "@interact(S=(1000, 1500, 10)) \n",
    "\n",
    "# The code below defines a function that will plot temperature vs. albedo\n",
    "def plot_temp_vs_albedo(S=1368):\n",
    "    albedos = np.linspace(0, 1, 100) # Defines the albedo values that will be plotted on the x-axis.\n",
    "    temps = [bare_rock_temp(S, a) for a in albedos] # Uses the model built above to determine the temperature values that will be plotted on the y-axis.\n",
    "    # The remaining code creates the plot\n",
    "    plt.plot(albedos, temps)\n",
    "    plt.xlabel() # Add an appropriate x-axis label for the plot. Your label should be in quotes.\n",
    "    plt.ylabel() # Add an appropriate y-axis label for the plot. Your label should be in quotes.\n",
    "    plt.title(f\"Bare Rock Model: S = {S} W/m$^2$\")\n",
    "    plt.grid(True)\n",
    "    plt.show()"
   ]
  },
  {
   "cell_type": "markdown",
   "id": "1371d860-175d-4513-a357-db91bbd7a1cc",
   "metadata": {},
   "source": [
    "## Section 4: Exploring Temperature vs. Solar Input\n",
    "The following code will generate a plot of temperature vs. solar input."
   ]
  },
  {
   "cell_type": "code",
   "execution_count": 18,
   "id": "66423c97-6d82-475e-9798-a8bde413a667",
   "metadata": {},
   "outputs": [
    {
     "data": {
      "application/vnd.jupyter.widget-view+json": {
       "model_id": "3c37a05ade5543a0ba8a44a4a6e9d2bb",
       "version_major": 2,
       "version_minor": 0
      },
      "text/plain": [
       "interactive(children=(FloatSlider(value=0.3, description='albedo', max=1.0, step=0.01), Output()), _dom_classe…"
      ]
     },
     "metadata": {},
     "output_type": "display_data"
    },
    {
     "name": "stdout",
     "output_type": "stream",
     "text": [
      "1. What albedo value results in the highest surface temperature? Why?\n",
      "2. How sensitive is the model's temperature to changes in albedo?\n",
      "3. At what albedo does temperature drop below 250 K?\n",
      "4. How does temperature respond to changes in solar intensity?\n",
      "5. What happens if Earth's albedo increases due to ice?\n",
      "6. Compare a=0.1 vs. a=0.9 under the same S. What's the temperature difference?\n",
      "7. Is temperature response to solar intensity linear? Why or why not?\n",
      "8. Predict temperature if Sun gets 10% brighter.\n",
      "9. What limitations does this model have?\n",
      "10. Is this model useful for basic planetary climate understanding? Why or why not?\n"
     ]
    }
   ],
   "source": [
    "# The interact below will create a slider that will allow you to vary the albedo.\n",
    "@interact(albedo=(0, 1, 0.01))\n",
    "\n",
    "# The code below defines a function that will plot temperature vs. solar input\n",
    "def plot_temp_vs_solar(albedo=0.3):\n",
    "    # The line below defines the S values that will be plotted on the x-axis.\n",
    "    # The first number is the smallest value and the second number is the largest value.\n",
    "    # Change the numbers to cover the range of S values you are interested in investigating.\n",
    "    S_vals = np.linspace(1000, 1500, 100)\n",
    "    temps = [bare_rock_temp(S, albedo) for S in S_vals] # Uses the model to determine temperature values for plotting.\n",
    "    # Create the plot\n",
    "    plt.plot(S_vals, temps)\n",
    "    plt.xlabel() # Add an appropriate x-axis label for the plot. Your label should be in quotes.\n",
    "    plt.ylabel() # Add an appropriate y-axis label for the plot. Your label should be in quotes.\n",
    "    plt.title(f\"Bare Rock Model: Albedo = {albedo}\")\n",
    "    plt.grid(True)\n",
    "    plt.show()"
   ]
  },
  {
   "cell_type": "code",
   "execution_count": null,
   "id": "8bb9ac31-d27c-4023-a1e7-5fce4e4c8dab",
   "metadata": {},
   "outputs": [],
   "source": []
  }
 ],
 "metadata": {
  "kernelspec": {
   "display_name": "Python 3 (ipykernel)",
   "language": "python",
   "name": "python3"
  },
  "language_info": {
   "codemirror_mode": {
    "name": "ipython",
    "version": 3
   },
   "file_extension": ".py",
   "mimetype": "text/x-python",
   "name": "python",
   "nbconvert_exporter": "python",
   "pygments_lexer": "ipython3",
   "version": "3.11.9"
  }
 },
 "nbformat": 4,
 "nbformat_minor": 5
}
