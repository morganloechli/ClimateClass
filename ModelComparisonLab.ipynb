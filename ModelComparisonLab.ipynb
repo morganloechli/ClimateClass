{
 "cells": [
  {
   "cell_type": "code",
   "execution_count": null,
   "id": "c34a5b56-c5d1-460e-83fa-5528c84394aa",
   "metadata": {},
   "outputs": [],
   "source": [
    "# Import useful packages\n",
    "import numpy as np\n",
    "import matplotlib.pyplot as plt\n",
    "import pandas as pd\n",
    "\n",
    "# Constants\n",
    "sigma = 5.67e-8  # Stefan-Boltzmann constant (W/m^2/K^4)\n",
    "albedo = 0.3  # fixed planetary albedo"
   ]
  },
  {
   "cell_type": "code",
   "execution_count": null,
   "id": "15a53b89-5433-48b7-919b-56bb49e1128f",
   "metadata": {},
   "outputs": [],
   "source": [
    "# Compare Model Output with Observations Using Forcing Time Series\n",
    "\n",
    "years = np.arange(1850, 2025)\n",
    "\n",
    "# Simulated radiative forcing time series (W/m^2)\n",
    "natural_forcing = 0.1 * np.sin(2 * np.pi * (years - 1880) / 11)  # solar + volcanic\n",
    "anthro_forcing = 0.03 * (years - 1880)  # CO2-like increase\n",
    "\n",
    "# Convert forcing to temperature response using a simple climate response model\n",
    "# Assume lambda = 0.8 K per W/m^2 (climate sensitivity parameter)\n",
    "lambda_climate = 0.8\n",
    "nat_temp_response = 14 + lambda_climate * np.cumsum(natural_forcing) / len(years)\n",
    "anthro_temp_response = 14 + lambda_climate * np.cumsum(natural_forcing + anthro_forcing) / len(years)\n",
    "\n",
    "# Observed data\n",
    "obs = pd.read_csv('Temps.txt',skiprows=56,sep='\\s+')\n",
    "obs_temp = obs['Year,'] + 14.4\n",
    "\n",
    "# Plot\n",
    "plt.figure(figsize=(10,5))\n",
    "plt.plot(years, obs_temp, label='Observed', color='black')\n",
    "plt.plot(years, nat_temp_response, label='Natural Forcings Only', linestyle='--')\n",
    "plt.plot(years, anthro_temp_response, label='Natural + Anthropogenic Forcings', linestyle=':')\n",
    "plt.xlabel('Year')\n",
    "plt.ylabel('Global Mean Surface Temp (°C)')\n",
    "plt.title('Observed vs Modeled Temperature Responses to Forcings')\n",
    "plt.legend()\n",
    "plt.grid(True)\n",
    "plt.show()"
   ]
  },
  {
   "cell_type": "code",
   "execution_count": null,
   "id": "f94fb3f5-256d-44cd-8ba4-418f559d945c",
   "metadata": {},
   "outputs": [],
   "source": []
  }
 ],
 "metadata": {
  "kernelspec": {
   "display_name": "Python 3 (ipykernel)",
   "language": "python",
   "name": "python3"
  },
  "language_info": {
   "codemirror_mode": {
    "name": "ipython",
    "version": 3
   },
   "file_extension": ".py",
   "mimetype": "text/x-python",
   "name": "python",
   "nbconvert_exporter": "python",
   "pygments_lexer": "ipython3",
   "version": "3.11.9"
  }
 },
 "nbformat": 4,
 "nbformat_minor": 5
}
