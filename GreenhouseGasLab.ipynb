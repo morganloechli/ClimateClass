{
 "cells": [
  {
   "cell_type": "markdown",
   "id": "8a7c1c19-03f5-4246-be74-c26e1ac1f432",
   "metadata": {},
   "source": [
    "# Modeling Earth's Temperature With A 1-Layer Atmosphere\n",
    "\n",
    "Use this notebook to model the surface temperature of Earth under various assumptions."
   ]
  },
  {
   "cell_type": "markdown",
   "id": "13edc4f0-4e15-4f0e-8268-7dcdbe056dcc",
   "metadata": {},
   "source": [
    "## Section 1: Setup\n",
    "\n",
    "The following block of code imports packages that will be needed for creating and visualising your model. It also defined any constants that will be used throughout."
   ]
  },
  {
   "cell_type": "code",
   "execution_count": null,
   "id": "f83a4032-1764-4253-b98a-fe3f752646e6",
   "metadata": {},
   "outputs": [],
   "source": [
    "# Packages\n",
    "import numpy as np\n",
    "import matplotlib.pyplot as plt\n",
    "from ipywidgets import interact\n",
    "\n",
    "# Constant\n",
    "# Complete the next line by inputing the value for the Stefan-Boltzmann constant in W/m^2/K^4. \n",
    "sigma = "
   ]
  },
  {
   "cell_type": "markdown",
   "id": "9618532a-0c3d-4ee9-b67a-8ee85de9d6aa",
   "metadata": {},
   "source": [
    "## Section 2: Creating the Model\n",
    "\n",
    "The following block of code will create a function that will be used to determine the Earth's surface temperature for a given Solar radiation and albedo value, assuming the Earth has a single-layer atmosphere with a \"perfect\" greenhouse effect (transparent to all incoming shortwave radiation and opaque to all outgoing longwave radiation)."
   ]
  },
  {
   "cell_type": "code",
   "execution_count": null,
   "id": "76346e64-6656-4277-aa83-60169b06e842",
   "metadata": {},
   "outputs": [],
   "source": [
    "# function\n",
    "# There is an error in this function. Correct it before moving on.\n",
    "def greenhouse_temp(S, albedo):\n",
    "    return ((S * (1 - albedo)) * (2 * sigma)) ** 0.25\n",
    "\n",
    "# Bare rock model for comparison\n",
    "def bare_rock_temp(S, albedo):\n",
    "    return ((S * (1 - albedo)) / (4 * sigma)) ** 0.25"
   ]
  },
  {
   "cell_type": "code",
   "execution_count": null,
   "id": "c7bf92d5-7e01-4011-a26d-09c4f49ee274",
   "metadata": {},
   "outputs": [],
   "source": [
    "# Confirm the function works by calling it for S = 1368 W/m^2 and albedo = 0.3 (run this cell of code). \n",
    "# You should get a temperature of 303 K.\n",
    "# If you get a different answer, go back and try correcting the function again. If you need help, just ask.\n",
    "greenhouse_temp(1368, 0.3)"
   ]
  },
  {
   "cell_type": "markdown",
   "id": "90b8843c-d102-448a-bcf7-5121d9194321",
   "metadata": {},
   "source": [
    "## Section 3: Exploring Temperature vs. Albedo\n",
    "\n",
    "The following block of code will generate an interactive plot of temperature vs. albedo."
   ]
  },
  {
   "cell_type": "code",
   "execution_count": null,
   "id": "f03b9063-780e-4c72-94f3-df560482b7fc",
   "metadata": {},
   "outputs": [],
   "source": [
    "# The line below is what makes the plot interactive. It will create a slider that will allow you to vary the solar input, S.\n",
    "# The first number is the lower limit, the second number is the upper limit, and the third number is the spacing of values.\n",
    "# Change the numbers to cover the range of S values you are interested in investigating. Remember, the standard value is S = 1368 W/m^2.\n",
    "@interact(S=(1000, 1500, 10)) \n",
    "\n",
    "# The code below defines a function that will plot temperature vs. albedo\n",
    "def plot_temp_vs_albedo(S=1368):\n",
    "    albedos = np.linspace(0, 1, 100) # Defines the albedo values that will be plotted on the x-axis.\n",
    "    bare_temps = [bare_rock_temp(S, a) for a in albedos] #Uses the bare rock model to determine the temperature values in that scenario.\n",
    "    greenhouse_temps = [greenhouse_temp(S, a) for a in albedos] # Uses the model built above to determine the temperature values that will be plotted on the y-axis.\n",
    "    # The remaining code creates the plot\n",
    "    plt.plot(albedos, bare_temps, label=\"Bare Rock\")\n",
    "    plt.plot(albedos, greenhouse_temps, label=\"Greenhouse\")\n",
    "    plt.xlabel() # Add an appropriate x-axis label for the plot. Your label should be in quotes.\n",
    "    plt.ylabel() # Add an appropriate y-axis label for the plot. Your label should be in quotes.\n",
    "    plt.title(f\"Temperature vs Albedo at S = {S} W/m$^2$\")\n",
    "    plt.legend()\n",
    "    plt.grid(True)\n",
    "    plt.show()"
   ]
  },
  {
   "cell_type": "markdown",
   "id": "49529bbe-dc30-4cfc-a263-7ecdabf186a2",
   "metadata": {},
   "source": [
    "## Section 4: Exploring Temperature vs. Solar Input\n",
    "\n",
    "The following code will generate a plot of temperature vs. solar input."
   ]
  },
  {
   "cell_type": "code",
   "execution_count": null,
   "id": "41819fc7-805e-4eea-8fd8-37aee0a47122",
   "metadata": {},
   "outputs": [],
   "source": [
    "# The interact below will create a slider that will allow you to vary the albedo.\n",
    "@interact(albedo=(0, 1, 0.01))\n",
    "\n",
    "# The code below defines a function that will plot temperature vs. solar input\n",
    "def plot_temp_vs_solar(albedo=0.3):\n",
    "    # The line below defines the S values that will be plotted on the x-axis.\n",
    "    # The first number is the smallest value and the second number is the largest value.\n",
    "    # Change the numbers to cover the range of S values you are interested in investigating.\n",
    "    S_vals = np.linspace(1000, 1500, 100)\n",
    "    bare_temps = [bare_rock_temp(S, albedo) for S in S_vals]\n",
    "    greenhouse_temps = [greenhouse_temp(S, albedo) for S in S_vals]\n",
    "    plt.plot(S_vals, bare_temps, label=\"Bare Rock\") # Uses the bare rock model to determine the temperature values in that scenario.\n",
    "    plt.plot(S_vals, greenhouse_temps, label=\"Greenhouse\") # Uses the model to determine temperature values for plotting.\n",
    "    # Create the plot\n",
    "    plt.xlabel() # Add an appropriate x-axis label for the plot. Your label should be in quotes.\n",
    "    plt.ylabel() # Add an appropriate y-axis label for the plot. Your label should be in quotes.\n",
    "    plt.title(f\"Temperature vs Solar Insolation at Albedo = {albedo}\")\n",
    "    plt.legend()\n",
    "    plt.grid(True)\n",
    "    plt.show()"
   ]
  },
  {
   "cell_type": "markdown",
   "id": "86a9e75d-2f86-4aad-8fb7-9990fc6cf11f",
   "metadata": {},
   "source": [
    "## Section 5: Improving The Model - Adding a second atmospheric layer\n",
    "\n",
    "We assumed that the atmosphere only had one absorbing layer. In reality, our atmosphere has two layers that absorb significant amounts of outgoing longwave radiation. Adding a second layer to the atmosphere modifies the equation for the surface temperature of Earth. Now, the surface temperature is\n",
    "\n",
    "$T_e = \\sqrt[4]{\\frac{3(1-\\alpha)S_0}{4 \\sigma}}$.\n",
    "\n",
    "The following code defines a function for a two-layer model and plots temperature vs. albedo and temperature vs. solar input like above. After making a prediction, run the code below and explore how adding a second layer to the atmosphere impacts the model."
   ]
  },
  {
   "cell_type": "code",
   "execution_count": null,
   "id": "facc82a2-fe98-46df-851e-a053dcea707d",
   "metadata": {},
   "outputs": [],
   "source": [
    "# Two layer model\n",
    "def two_layer_temp(S, albedo):\n",
    "    return ((3 * S * (1 - albedo)) / (4 * sigma)) ** 0.25\n",
    "\n",
    "# Plot temperature vs. albedo\n",
    "@interact(S=(1000, 1500, 10)) \n",
    "def plot_temp_vs_albedo(S=1368):\n",
    "    albedos = np.linspace(0, 1, 100)\n",
    "    temps = [two_layer_temp(S, a) for a in albedos]\n",
    "    plt.plot(albedos, temps, label=\"Two Layers\")\n",
    "    bare_temps = [bare_rock_temp(S, a) for a in albedos]\n",
    "    greenhouse_temps = [greenhouse_temp(S, a) for a in albedos]\n",
    "    plt.plot(albedos, bare_temps, label=\"Bare Rock\")\n",
    "    plt.plot(albedos, greenhouse_temps, label=\"Greenhouse\")\n",
    "    plt.xlabel(\"Albedo\")\n",
    "    plt.ylabel(\"Surface Temperature (K)\") \n",
    "    plt.title(f\"Bare Rock Model: S = {S} W/m$^2$\")\n",
    "    plt.legend()\n",
    "    plt.grid(True)\n",
    "    plt.show()\n",
    "\n",
    "# Plot temperature vs. solar input\n",
    "@interact(albedo=(0, 1, 0.01))\n",
    "def plot_temp_vs_solar(albedo=0.3):\n",
    "    S_vals = np.linspace(1000, 1500, 100)\n",
    "    temps = [two_layer_temp(S, albedo) for S in S_vals] \n",
    "    plt.plot(S_vals, temps, label = \"Two Layers\")\n",
    "    bare_temps = [bare_rock_temp(S, albedo) for S in S_vals]\n",
    "    greenhouse_temps = [greenhouse_temp(S, albedo) for S in S_vals]\n",
    "    plt.plot(S_vals, bare_temps, label=\"Bare Rock\") \n",
    "    plt.plot(S_vals, greenhouse_temps, label=\"Greenhouse\")\n",
    "    plt.xlabel(\"Solar Insolation (W/m$^2$)\") \n",
    "    plt.ylabel(\"Surface Temperature (K)\") \n",
    "    plt.title(f\"Bare Rock Model: Albedo = {albedo}\")\n",
    "    plt.legend()\n",
    "    plt.grid(True)\n",
    "    plt.show()"
   ]
  },
  {
   "cell_type": "markdown",
   "id": "c60c81ab-a68f-466d-a0e2-873b298c9546",
   "metadata": {},
   "source": [
    "## Section 5: Improving The Model - Adding a realistic greenhouse effect\n",
    "\n",
    "We assumed that the absorbing layers of the atmosphere absorbed all outgoing longwave radiation (perfect greenhouse effect). In reality, about 15% - 30% of outgoing longwave radiation is transmitted through the atmosphere. Adding a greenhouse effect factor to our equations for a single-layer atmosphere modifies the equation for the surface temperature of Earth. Now, the surface temperature is\n",
    "\n",
    "$T_e = \\sqrt[4]{\\frac{(1-\\alpha)S_0}{2 \\sigma (2-G)}}$,\n",
    "\n",
    "Where $G$ is a greenhouse effect factor that can vary between 0 (no greenhouse effect) and 1 (perfect greenhouse). For current greenhouse gas levels on Earth, $G$ is about 0.8.\n",
    "\n",
    "The following code defines a function for a realistic greenhouse effect model and plots temperature vs. albedo and temperature vs. solar input like above with the addition of a slider for the greenhouse factor $G$. After making a prediction, run the code below and explore how making the greenhouse effect variable impacts the model."
   ]
  },
  {
   "cell_type": "code",
   "execution_count": null,
   "id": "c6ee8be8-5454-441f-a347-3e0fdd8b7ce2",
   "metadata": {},
   "outputs": [],
   "source": [
    "# Two layer model\n",
    "def realistic_greenhouse_temp(S, albedo, G):\n",
    "    return ((S * (1 - albedo)) / (2 * sigma * (2 - G))) ** 0.25\n",
    "\n",
    "# Plot temperature vs. albedo\n",
    "@interact(S=(1000, 1500, 10),G=(0, 1, 0.01))\n",
    "def plot_temp_vs_albedo(S=1368, G=0.8):\n",
    "    albedos = np.linspace(0, 1, 100)\n",
    "    temps = [realistic_greenhouse_temp(S, a, G) for a in albedos]\n",
    "    two_layer_temps = [two_layer_temp(S, a) for a in albedos]\n",
    "    bare_temps = [bare_rock_temp(S, a) for a in albedos]\n",
    "    greenhouse_temps = [greenhouse_temp(S, a) for a in albedos]\n",
    "    plt.plot(albedos, temps, label=\"Realistic Greenhouse\")\n",
    "    plt.plot(albedos, two_layer_temps, label=\"Two Layers\")\n",
    "    plt.plot(albedos, bare_temps, label=\"Bare Rock\")\n",
    "    plt.plot(albedos, greenhouse_temps, label=\"Greenhouse\")\n",
    "    plt.xlabel(\"Albedo\")\n",
    "    plt.ylabel(\"Surface Temperature (K)\") \n",
    "    plt.title(f\"Bare Rock Model: S = {S} W/m$^2$\")\n",
    "    plt.legend()\n",
    "    plt.grid(True)\n",
    "    plt.show()\n",
    "\n",
    "# Plot temperature vs. solar input\n",
    "@interact(albedo=(0, 1, 0.01),G=(0, 1, 0.01))\n",
    "def plot_temp_vs_solar(albedo=0.3, G=0.8):\n",
    "    S_vals = np.linspace(1000, 1500, 100)\n",
    "    temps = [realistic_greenhouse_temp(S, albedo, G) for S in S_vals]\n",
    "    two_layer_temps = [two_layer_temp(S, albedo) for S in S_vals] \n",
    "    bare_temps = [bare_rock_temp(S, albedo) for S in S_vals]\n",
    "    greenhouse_temps = [greenhouse_temp(S, albedo) for S in S_vals]\n",
    "    plt.plot(S_vals, temps, label = \"Realistic Greenhouse\")\n",
    "    plt.plot(S_vals, two_layer_temps, label = \"Two Layers\")\n",
    "    plt.plot(S_vals, bare_temps, label=\"Bare Rock\") \n",
    "    plt.plot(S_vals, greenhouse_temps, label=\"Greenhouse\")\n",
    "    plt.xlabel(\"Solar Insolation (W/m$^2$)\") \n",
    "    plt.ylabel(\"Surface Temperature (K)\") \n",
    "    plt.title(f\"Bare Rock Model: Albedo = {albedo}\")\n",
    "    plt.legend()\n",
    "    plt.grid(True)\n",
    "    plt.show()"
   ]
  },
  {
   "cell_type": "markdown",
   "id": "3c836ee1-57df-4d06-8540-aa767a905329",
   "metadata": {},
   "source": [
    "## Section 5: Improving The Model - Combining these changes\n",
    "\n",
    "The best simple model we can create would include both two absorbing layers and a realistic greenhouse effect. Combining these effects modifies the equation for the surface temperature of Earth. Now, the surface temperature is\n",
    "\n",
    "$T_e = \\sqrt[4]{\\frac{3(1-\\alpha)S_0}{4 \\sigma (3-2G_1+G_2)}}$,\n",
    "\n",
    "Where $G_1$ is the greenhouse effect factor for the lower level of the atmosphere (troposphere) and $G_2$ is the greenhouse effect factor for the upper layer of the atmosphere (stratosphere). The total greenhouse effect $G = G_1 + G_2$.  About 80% of the atmosphere is in the troposphere and about 20% is in the stratosphere, so for simplicity, we will assume $G_1 = 0.8G$ and $G_2 = 0.2G$. \n",
    "\n",
    "The following code defines a function for a realistic greenhouse model with two atmospheric layers and plots temperature vs. albedo and temperature vs. solar input like above with the addition of a slider for the greenhouse factor $G$. After making a prediction, run the code below and explore how making the greenhouse effect variable impacts the model."
   ]
  },
  {
   "cell_type": "code",
   "execution_count": null,
   "id": "f5338723-47a6-4fdc-90ec-6bd5478331b7",
   "metadata": {},
   "outputs": [],
   "source": [
    "# Two layer model\n",
    "def model_temp(S, albedo, G):\n",
    "    return ((3 * S * (1 - albedo)) / (4 * sigma * (3 - (1.4 * G)))) ** 0.25\n",
    "\n",
    "# Plot temperature vs. albedo\n",
    "@interact(S=(1000, 1500, 10),G=(0, 1, 0.01))\n",
    "def plot_temp_vs_albedo(S=1368, G=0.8):\n",
    "    albedos = np.linspace(0, 1, 100)\n",
    "    temps = [model_temp(S, a, G) for a in albedos]\n",
    "    realistic_greenhouse_temps = [realistic_greenhouse_temp(S, a, G) for a in albedos]\n",
    "    two_layer_temps = [two_layer_temp(S, a) for a in albedos]\n",
    "    bare_temps = [bare_rock_temp(S, a) for a in albedos]\n",
    "    greenhouse_temps = [greenhouse_temp(S, a) for a in albedos]\n",
    "    plt.plot(albedos, temps, label=\"Combined Model\")\n",
    "    plt.plot(albedos, realistic_greenhouse_temps, label=\"Realistic Greenhouse\")\n",
    "    plt.plot(albedos, two_layer_temps, label=\"Two Layers\")\n",
    "    plt.plot(albedos, bare_temps, label=\"Bare Rock\")\n",
    "    plt.plot(albedos, greenhouse_temps, label=\"Greenhouse\")\n",
    "    plt.xlabel(\"Albedo\")\n",
    "    plt.ylabel(\"Surface Temperature (K)\") \n",
    "    plt.title(f\"Bare Rock Model: S = {S} W/m$^2$\")\n",
    "    plt.legend()\n",
    "    plt.grid(True)\n",
    "    plt.show()\n",
    "\n",
    "# Plot temperature vs. solar input\n",
    "@interact(albedo=(0, 1, 0.01),G=(0, 1, 0.01))\n",
    "def plot_temp_vs_solar(albedo=0.3, G=0.8):\n",
    "    S_vals = np.linspace(1000, 1500, 100)\n",
    "    temps = [model_temp(S, albedo, G) for S in S_vals]\n",
    "    realistic_greenhouse_temps = [realistic_greenhouse_temp(S, albedo, G) for S in S_vals]\n",
    "    two_layer_temps = [two_layer_temp(S, albedo) for S in S_vals] \n",
    "    bare_temps = [bare_rock_temp(S, albedo) for S in S_vals]\n",
    "    greenhouse_temps = [greenhouse_temp(S, albedo) for S in S_vals]\n",
    "    plt.plot(S_vals, temps, label = \"Combined Model\")\n",
    "    plt.plot(S_vals, realistic_greenhouse_temps, label = \"Realistic Greenhouse\")\n",
    "    plt.plot(S_vals, two_layer_temps, label = \"Two Layers\")\n",
    "    plt.plot(S_vals, bare_temps, label=\"Bare Rock\") \n",
    "    plt.plot(S_vals, greenhouse_temps, label=\"Greenhouse\")\n",
    "    plt.xlabel(\"Solar Insolation (W/m$^2$)\") \n",
    "    plt.ylabel(\"Surface Temperature (K)\") \n",
    "    plt.title(f\"Bare Rock Model: Albedo = {albedo}\")\n",
    "    plt.legend()\n",
    "    plt.grid(True)\n",
    "    plt.show()"
   ]
  },
  {
   "cell_type": "code",
   "execution_count": null,
   "id": "3c8e1e24-fe0d-407a-ac39-489ec1623ff5",
   "metadata": {},
   "outputs": [],
   "source": []
  }
 ],
 "metadata": {
  "kernelspec": {
   "display_name": "Python 3 (ipykernel)",
   "language": "python",
   "name": "python3"
  },
  "language_info": {
   "codemirror_mode": {
    "name": "ipython",
    "version": 3
   },
   "file_extension": ".py",
   "mimetype": "text/x-python",
   "name": "python",
   "nbconvert_exporter": "python",
   "pygments_lexer": "ipython3",
   "version": "3.11.9"
  }
 },
 "nbformat": 4,
 "nbformat_minor": 5
}
